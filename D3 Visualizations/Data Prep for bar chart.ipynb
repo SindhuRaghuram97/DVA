{
 "cells": [
  {
   "cell_type": "code",
   "execution_count": 1,
   "id": "d2c31a2e",
   "metadata": {},
   "outputs": [],
   "source": [
    "import random"
   ]
  },
  {
   "cell_type": "code",
   "execution_count": 2,
   "id": "aa6617d6",
   "metadata": {},
   "outputs": [],
   "source": [
    "state_names = [\"Alaska\", \"Alabama\", \"Arkansas\", \"Arizona\", \"California\", \"Colorado\", \"Connecticut\", \"District of Columbia\", \"Delaware\", \"Florida\", \"Georgia\", \"Guam\", \"Hawaii\", \"Iowa\", \"Idaho\", \"Illinois\", \"Indiana\", \"Kansas\", \"Kentucky\", \"Louisiana\", \"Massachusetts\", \"Maryland\", \"Maine\", \"Michigan\", \"Minnesota\", \"Missouri\", \"Mississippi\", \"Montana\", \"North Carolina\", \"North Dakota\", \"Nebraska\", \"New Hampshire\", \"New Jersey\", \"New Mexico\", \"Nevada\", \"New York\", \"Ohio\", \"Oklahoma\", \"Oregon\", \"Pennsylvania\", \"Rhode Island\", \"South Carolina\", \"South Dakota\", \"Tennessee\", \"Texas\", \"Utah\", \"Virginia\", \"Virgin Islands\", \"Vermont\", \"Washington\", \"Wisconsin\", \"West Virginia\", \"Wyoming\"]"
   ]
  },
  {
   "cell_type": "code",
   "execution_count": 6,
   "id": "c6291bd3",
   "metadata": {},
   "outputs": [],
   "source": [
    "state_dict = dict()\n",
    "for ele in state_names:\n",
    "    state_dict[ele] = random.uniform(0, 1)"
   ]
  },
  {
   "cell_type": "code",
   "execution_count": 7,
   "id": "559c6c81",
   "metadata": {},
   "outputs": [
    {
     "data": {
      "text/plain": [
       "{'Alaska': 0.616485970574269,\n",
       " 'Alabama': 0.6239163528361072,\n",
       " 'Arkansas': 0.7025314088083139,\n",
       " 'Arizona': 0.8191340719659759,\n",
       " 'California': 0.5302507341783657,\n",
       " 'Colorado': 0.16562007592647698,\n",
       " 'Connecticut': 0.8513612847388627,\n",
       " 'District of Columbia': 0.7571816519651691,\n",
       " 'Delaware': 0.9637468309540307,\n",
       " 'Florida': 0.2080138162703239,\n",
       " 'Georgia': 0.5919641392577759,\n",
       " 'Guam': 0.4832260209577284,\n",
       " 'Hawaii': 0.43712553918945085,\n",
       " 'Iowa': 0.7314391818792009,\n",
       " 'Idaho': 0.06420374397914708,\n",
       " 'Illinois': 0.679473134439052,\n",
       " 'Indiana': 0.33990157250755204,\n",
       " 'Kansas': 0.471322427070785,\n",
       " 'Kentucky': 0.5902606588963193,\n",
       " 'Louisiana': 0.7334939392022173,\n",
       " 'Massachusetts': 0.6677597144448789,\n",
       " 'Maryland': 0.6403378337028022,\n",
       " 'Maine': 0.7468413749331425,\n",
       " 'Michigan': 0.02273548118254609,\n",
       " 'Minnesota': 0.3645731661948669,\n",
       " 'Missouri': 0.6496371000246521,\n",
       " 'Mississippi': 0.8541005991785122,\n",
       " 'Montana': 0.3629748899825286,\n",
       " 'North Carolina': 0.33171375802803027,\n",
       " 'North Dakota': 0.9810317906314351,\n",
       " 'Nebraska': 0.6712695010152213,\n",
       " 'New Hampshire': 0.5314881615203796,\n",
       " 'New Jersey': 0.6497200485840395,\n",
       " 'New Mexico': 0.6707953112707425,\n",
       " 'Nevada': 0.013527282231912019,\n",
       " 'New York': 0.3636166138947696,\n",
       " 'Ohio': 0.6924769156519125,\n",
       " 'Oklahoma': 0.35397864400020596,\n",
       " 'Oregon': 0.7906546340424518,\n",
       " 'Pennsylvania': 0.48862046544496407,\n",
       " 'Rhode Island': 0.7572515242998834,\n",
       " 'South Carolina': 0.8986772745371213,\n",
       " 'South Dakota': 0.5818059885178074,\n",
       " 'Tennessee': 0.21800626248476584,\n",
       " 'Texas': 0.4828573048209559,\n",
       " 'Utah': 0.04635777303059696,\n",
       " 'Virginia': 0.13276150876194337,\n",
       " 'Virgin Islands': 0.8639595563711436,\n",
       " 'Vermont': 0.8168590540648301,\n",
       " 'Washington': 0.4759353976636769,\n",
       " 'Wisconsin': 0.08062422959274362,\n",
       " 'West Virginia': 0.39239671302769297,\n",
       " 'Wyoming': 0.7441471964197665}"
      ]
     },
     "execution_count": 7,
     "metadata": {},
     "output_type": "execute_result"
    }
   ],
   "source": [
    "state_dict"
   ]
  },
  {
   "cell_type": "code",
   "execution_count": 4,
   "id": "5abfc051",
   "metadata": {},
   "outputs": [
    {
     "name": "stdout",
     "output_type": "stream",
     "text": [
      "['Alaska', 'Alabama', 'Arkansas', 'Arizona', 'California', 'Colorado', 'Connecticut', 'District of Columbia', 'Delaware', 'Florida', 'Georgia', 'Guam', 'Hawaii', 'Iowa', 'Idaho', 'Illinois', 'Indiana', 'Kansas', 'Kentucky', 'Louisiana', 'Massachusetts', 'Maryland', 'Maine', 'Michigan']\n"
     ]
    }
   ],
   "source": [
    "state_dem = {'Alaska': 0.616485970574269,\n",
    " 'Alabama': 0.6239163528361072,\n",
    " 'Arkansas': 0.7025314088083139,\n",
    " 'Arizona': 0.8191340719659759,\n",
    " 'California': 0.5302507341783657,\n",
    " 'Colorado': 0.16562007592647698,\n",
    " 'Connecticut': 0.8513612847388627,\n",
    " 'District of Columbia': 0.7571816519651691,\n",
    " 'Delaware': 0.9637468309540307,\n",
    " 'Florida': 0.2080138162703239,\n",
    " 'Georgia': 0.5919641392577759,\n",
    " 'Guam': 0.4832260209577284,\n",
    " 'Hawaii': 0.43712553918945085,\n",
    " 'Iowa': 0.7314391818792009,\n",
    " 'Idaho': 0.06420374397914708,\n",
    " 'Illinois': 0.679473134439052,\n",
    " 'Indiana': 0.33990157250755204,\n",
    " 'Kansas': 0.471322427070785,\n",
    " 'Kentucky': 0.5902606588963193,\n",
    " 'Louisiana': 0.7334939392022173,\n",
    " 'Massachusetts': 0.6677597144448789,\n",
    " 'Maryland': 0.6403378337028022,\n",
    " 'Maine': 0.7468413749331425,\n",
    " 'Michigan': 0.02273548118254609}\n",
    "\n",
    "print(list(state_dem.keys()))"
   ]
  },
  {
   "cell_type": "code",
   "execution_count": 5,
   "id": "417060a0",
   "metadata": {},
   "outputs": [
    {
     "name": "stdout",
     "output_type": "stream",
     "text": [
      "['Minnesota', 'Missouri', 'Mississippi', 'Montana', 'North Carolina', 'North Dakota', 'Nebraska', 'New Hampshire', 'New Jersey', 'New Mexico', 'Nevada', 'New York', 'Ohio', 'Oklahoma', 'Oregon', 'Pennsylvania', 'Rhode Island', 'South Carolina', 'South Dakota', 'Tennessee', 'Texas', 'Utah', 'Virginia', 'Virgin Islands', 'Vermont', 'Washington', 'Wisconsin', 'West Virginia', 'Wyoming']\n"
     ]
    }
   ],
   "source": [
    "state_rep = {'Minnesota': 0.3645731661948669,\n",
    " 'Missouri': 0.6496371000246521,\n",
    " 'Mississippi': 0.8541005991785122,\n",
    " 'Montana': 0.3629748899825286,\n",
    " 'North Carolina': 0.33171375802803027,\n",
    " 'North Dakota': 0.9810317906314351,\n",
    " 'Nebraska': 0.6712695010152213,\n",
    " 'New Hampshire': 0.5314881615203796,\n",
    " 'New Jersey': 0.6497200485840395,\n",
    " 'New Mexico': 0.6707953112707425,\n",
    " 'Nevada': 0.013527282231912019,\n",
    " 'New York': 0.3636166138947696,\n",
    " 'Ohio': 0.6924769156519125,\n",
    " 'Oklahoma': 0.35397864400020596,\n",
    " 'Oregon': 0.7906546340424518,\n",
    " 'Pennsylvania': 0.48862046544496407,\n",
    " 'Rhode Island': 0.7572515242998834,\n",
    " 'South Carolina': 0.8986772745371213,\n",
    " 'South Dakota': 0.5818059885178074,\n",
    " 'Tennessee': 0.21800626248476584,\n",
    " 'Texas': 0.4828573048209559,\n",
    " 'Utah': 0.04635777303059696,\n",
    " 'Virginia': 0.13276150876194337,\n",
    " 'Virgin Islands': 0.8639595563711436,\n",
    " 'Vermont': 0.8168590540648301,\n",
    " 'Washington': 0.4759353976636769,\n",
    " 'Wisconsin': 0.08062422959274362,\n",
    " 'West Virginia': 0.39239671302769297,\n",
    " 'Wyoming': 0.7441471964197665}\n",
    "\n",
    "print(list(state_rep.keys()))"
   ]
  },
  {
   "cell_type": "code",
   "execution_count": 11,
   "id": "89eb7fca",
   "metadata": {},
   "outputs": [
    {
     "data": {
      "text/plain": [
       "[{'Alaska': 0.616485970574269},\n",
       " {'Alabama': 0.6239163528361072},\n",
       " {'Arkansas': 0.7025314088083139},\n",
       " {'Arizona': 0.8191340719659759},\n",
       " {'California': 0.5302507341783657},\n",
       " {'Colorado': 0.16562007592647698},\n",
       " {'Connecticut': 0.8513612847388627},\n",
       " {'District of Columbia': 0.7571816519651691},\n",
       " {'Delaware': 0.9637468309540307},\n",
       " {'Florida': 0.2080138162703239},\n",
       " {'Georgia': 0.5919641392577759},\n",
       " {'Guam': 0.4832260209577284},\n",
       " {'Hawaii': 0.43712553918945085},\n",
       " {'Iowa': 0.7314391818792009},\n",
       " {'Idaho': 0.06420374397914708},\n",
       " {'Illinois': 0.679473134439052},\n",
       " {'Indiana': 0.33990157250755204},\n",
       " {'Kansas': 0.471322427070785},\n",
       " {'Kentucky': 0.5902606588963193},\n",
       " {'Louisiana': 0.7334939392022173},\n",
       " {'Massachusetts': 0.6677597144448789},\n",
       " {'Maryland': 0.6403378337028022},\n",
       " {'Maine': 0.7468413749331425},\n",
       " {'Michigan': 0.02273548118254609}]"
      ]
     },
     "execution_count": 11,
     "metadata": {},
     "output_type": "execute_result"
    }
   ],
   "source": [
    "dem_list = []\n",
    "for i in state_dem:\n",
    "    dem_list.append({i: state_dem[i]})\n",
    "dem_list"
   ]
  },
  {
   "cell_type": "code",
   "execution_count": 7,
   "id": "f06aecf5",
   "metadata": {},
   "outputs": [
    {
     "ename": "NameError",
     "evalue": "name 'group' is not defined",
     "output_type": "error",
     "traceback": [
      "\u001b[1;31m---------------------------------------------------------------------------\u001b[0m",
      "\u001b[1;31mNameError\u001b[0m                                 Traceback (most recent call last)",
      "Input \u001b[1;32mIn [7]\u001b[0m, in \u001b[0;36m<cell line: 2>\u001b[1;34m()\u001b[0m\n\u001b[0;32m      1\u001b[0m dem_list_raw \u001b[38;5;241m=\u001b[39m [\n\u001b[1;32m----> 2\u001b[0m    {\u001b[43mgroup\u001b[49m: \u001b[38;5;124m\"\u001b[39m\u001b[38;5;124mArizona\u001b[39m\u001b[38;5;124m\"\u001b[39m, value: \u001b[38;5;241m7\u001b[39m},\n\u001b[0;32m      3\u001b[0m    {group: \u001b[38;5;124m\"\u001b[39m\u001b[38;5;124mCalifornia\u001b[39m\u001b[38;5;124m\"\u001b[39m, value: \u001b[38;5;241m1\u001b[39m},\n\u001b[0;32m      4\u001b[0m    {group: \u001b[38;5;124m\"\u001b[39m\u001b[38;5;124mColorado\u001b[39m\u001b[38;5;124m\"\u001b[39m, value: \u001b[38;5;241m20\u001b[39m},\n\u001b[0;32m      5\u001b[0m    {group: \u001b[38;5;124m\"\u001b[39m\u001b[38;5;124mConnecticut\u001b[39m\u001b[38;5;124m\"\u001b[39m, value: \u001b[38;5;241m10\u001b[39m},\n\u001b[0;32m      6\u001b[0m    {group: \u001b[38;5;124m\"\u001b[39m\u001b[38;5;124mDelaware\u001b[39m\u001b[38;5;124m\"\u001b[39m, value: \u001b[38;5;241m7\u001b[39m},\n\u001b[0;32m      7\u001b[0m    {group: \u001b[38;5;124m\"\u001b[39m\u001b[38;5;124mDistrict of Columbia\u001b[39m\u001b[38;5;124m\"\u001b[39m, value: \u001b[38;5;241m1\u001b[39m},\n\u001b[0;32m      8\u001b[0m    {group: \u001b[38;5;124m\"\u001b[39m\u001b[38;5;124mGeorgia\u001b[39m\u001b[38;5;124m\"\u001b[39m, value: \u001b[38;5;241m20\u001b[39m},\n\u001b[0;32m      9\u001b[0m    {group: \u001b[38;5;124m\"\u001b[39m\u001b[38;5;124mHawaii\u001b[39m\u001b[38;5;124m\"\u001b[39m, value: \u001b[38;5;241m10\u001b[39m},\n\u001b[0;32m     10\u001b[0m    {group: \u001b[38;5;124m\"\u001b[39m\u001b[38;5;124mIllinois\u001b[39m\u001b[38;5;124m\"\u001b[39m, value: \u001b[38;5;241m7\u001b[39m},\n\u001b[0;32m     11\u001b[0m    {group: \u001b[38;5;124m\"\u001b[39m\u001b[38;5;124mMaine\u001b[39m\u001b[38;5;124m\"\u001b[39m, value: \u001b[38;5;241m1\u001b[39m},\n\u001b[0;32m     12\u001b[0m    {group: \u001b[38;5;124m\"\u001b[39m\u001b[38;5;124mMaryland\u001b[39m\u001b[38;5;124m\"\u001b[39m, value: \u001b[38;5;241m20\u001b[39m},\n\u001b[0;32m     13\u001b[0m    {group: \u001b[38;5;124m\"\u001b[39m\u001b[38;5;124mMassachusetts\u001b[39m\u001b[38;5;124m\"\u001b[39m, value: \u001b[38;5;241m10\u001b[39m},\n\u001b[0;32m     14\u001b[0m    {group: \u001b[38;5;124m\"\u001b[39m\u001b[38;5;124mMichigan\u001b[39m\u001b[38;5;124m\"\u001b[39m, value: \u001b[38;5;241m7\u001b[39m},\n\u001b[0;32m     15\u001b[0m    {group: \u001b[38;5;124m\"\u001b[39m\u001b[38;5;124mMinnesota\u001b[39m\u001b[38;5;124m\"\u001b[39m, value: \u001b[38;5;241m1\u001b[39m},\n\u001b[0;32m     16\u001b[0m    {group: \u001b[38;5;124m\"\u001b[39m\u001b[38;5;124mNevada\u001b[39m\u001b[38;5;124m\"\u001b[39m, value: \u001b[38;5;241m20\u001b[39m},\n\u001b[0;32m     17\u001b[0m    {group: \u001b[38;5;124m\"\u001b[39m\u001b[38;5;124mNew Hampshire\u001b[39m\u001b[38;5;124m\"\u001b[39m, value: \u001b[38;5;241m10\u001b[39m},\n\u001b[0;32m     18\u001b[0m    {group: \u001b[38;5;124m\"\u001b[39m\u001b[38;5;124mNew Jersey\u001b[39m\u001b[38;5;124m\"\u001b[39m, value: \u001b[38;5;241m7\u001b[39m},\n\u001b[0;32m     19\u001b[0m    {group: \u001b[38;5;124m\"\u001b[39m\u001b[38;5;124mNew Mexico\u001b[39m\u001b[38;5;124m\"\u001b[39m, value: \u001b[38;5;241m1\u001b[39m},\n\u001b[0;32m     20\u001b[0m    {group: \u001b[38;5;124m\"\u001b[39m\u001b[38;5;124mNew York\u001b[39m\u001b[38;5;124m\"\u001b[39m, value: \u001b[38;5;241m20\u001b[39m},\n\u001b[0;32m     21\u001b[0m    {group: \u001b[38;5;124m\"\u001b[39m\u001b[38;5;124mOregon\u001b[39m\u001b[38;5;124m\"\u001b[39m, value: \u001b[38;5;241m10\u001b[39m},\n\u001b[0;32m     22\u001b[0m    {group: \u001b[38;5;124m\"\u001b[39m\u001b[38;5;124mPennsylvania\u001b[39m\u001b[38;5;124m\"\u001b[39m, value: \u001b[38;5;241m7\u001b[39m},\n\u001b[0;32m     23\u001b[0m    {group: \u001b[38;5;124m\"\u001b[39m\u001b[38;5;124mRhode Island\u001b[39m\u001b[38;5;124m\"\u001b[39m, value: \u001b[38;5;241m1\u001b[39m},\n\u001b[0;32m     24\u001b[0m    {group: \u001b[38;5;124m\"\u001b[39m\u001b[38;5;124mVermont\u001b[39m\u001b[38;5;124m\"\u001b[39m, value: \u001b[38;5;241m20\u001b[39m},\n\u001b[0;32m     25\u001b[0m    {group: \u001b[38;5;124m\"\u001b[39m\u001b[38;5;124mVirginia\u001b[39m\u001b[38;5;124m\"\u001b[39m, value: \u001b[38;5;241m10\u001b[39m},\n\u001b[0;32m     26\u001b[0m    {group: \u001b[38;5;124m\"\u001b[39m\u001b[38;5;124mWashington\u001b[39m\u001b[38;5;124m\"\u001b[39m, value: \u001b[38;5;241m7\u001b[39m},\n\u001b[0;32m     27\u001b[0m    {group: \u001b[38;5;124m\"\u001b[39m\u001b[38;5;124mWisconsin\u001b[39m\u001b[38;5;124m\"\u001b[39m, value: \u001b[38;5;241m1\u001b[39m}\n\u001b[0;32m     28\u001b[0m ]\n\u001b[0;32m     30\u001b[0m rep_list_raw \u001b[38;5;241m=\u001b[39m [\n\u001b[0;32m     31\u001b[0m    {group: \u001b[38;5;124m\"\u001b[39m\u001b[38;5;124mAlabama\u001b[39m\u001b[38;5;124m\"\u001b[39m, value: \u001b[38;5;241m4\u001b[39m},\n\u001b[0;32m     32\u001b[0m    {group: \u001b[38;5;124m\"\u001b[39m\u001b[38;5;124mAlaska\u001b[39m\u001b[38;5;124m\"\u001b[39m, value: \u001b[38;5;241m16\u001b[39m},\n\u001b[1;32m   (...)\u001b[0m\n\u001b[0;32m     55\u001b[0m    {group: \u001b[38;5;124m\"\u001b[39m\u001b[38;5;124mWyoming\u001b[39m\u001b[38;5;124m\"\u001b[39m, value: \u001b[38;5;241m4\u001b[39m}\n\u001b[0;32m     56\u001b[0m ]\n",
      "\u001b[1;31mNameError\u001b[0m: name 'group' is not defined"
     ]
    }
   ],
   "source": [
    "dem_list_raw = [\n",
    "   {group: \"Arizona\", value: 7},\n",
    "   {group: \"California\", value: 1},\n",
    "   {group: \"Colorado\", value: 20},\n",
    "   {group: \"Connecticut\", value: 10},\n",
    "   {group: \"Delaware\", value: 7},\n",
    "   {group: \"District of Columbia\", value: 1},\n",
    "   {group: \"Georgia\", value: 20},\n",
    "   {group: \"Hawaii\", value: 10},\n",
    "   {group: \"Illinois\", value: 7},\n",
    "   {group: \"Maine\", value: 1},\n",
    "   {group: \"Maryland\", value: 20},\n",
    "   {group: \"Massachusetts\", value: 10},\n",
    "   {group: \"Michigan\", value: 7},\n",
    "   {group: \"Minnesota\", value: 1},\n",
    "   {group: \"Nevada\", value: 20},\n",
    "   {group: \"New Hampshire\", value: 10},\n",
    "   {group: \"New Jersey\", value: 7},\n",
    "   {group: \"New Mexico\", value: 1},\n",
    "   {group: \"New York\", value: 20},\n",
    "   {group: \"Oregon\", value: 10},\n",
    "   {group: \"Pennsylvania\", value: 7},\n",
    "   {group: \"Rhode Island\", value: 1},\n",
    "   {group: \"Vermont\", value: 20},\n",
    "   {group: \"Virginia\", value: 10},\n",
    "   {group: \"Washington\", value: 7},\n",
    "   {group: \"Wisconsin\", value: 1}\n",
    "]\n",
    "\n",
    "rep_list_raw = [\n",
    "   {group: \"Alabama\", value: 4},\n",
    "   {group: \"Alaska\", value: 16},\n",
    "   {group: \"Arkansas\", value: 8},\n",
    "   {group: \"Florida\", value: 4},\n",
    "   {group: \"Idaho\", value: 16},\n",
    "   {group: \"Indiana\", value: 8},\n",
    "   {group: \"Iowa\", value: 4},\n",
    "   {group: \"Kansas\", value: 16},\n",
    "   {group: \"Kentucky\", value: 8},\n",
    "   {group: \"Louisiana\", value: 4},\n",
    "   {group: \"Mississippi\", value: 16},\n",
    "   {group: \"Missouri\", value: 8},\n",
    "   {group: \"Montana\", value: 4},\n",
    "   {group: \"Nebraska\", value: 16},\n",
    "   {group: \"North Carolina\", value: 8},\n",
    "   {group: \"North Dakota\", value: 4},\n",
    "   {group: \"Ohio\", value: 16},\n",
    "   {group: \"Oklahoma\", value: 8},\n",
    "   {group: \"South Carolina\", value: 4},\n",
    "   {group: \"South Dakota\", value: 16},\n",
    "   {group: \"Tefnnessee\", value: 8},\n",
    "   {group: \"Texas\", value: 4},\n",
    "   {group: \"Utah\", value: 16},\n",
    "   {group: \"West Virginia\", value: 8},\n",
    "   {group: \"Wyoming\", value: 4}\n",
    "]"
   ]
  },
  {
   "cell_type": "code",
   "execution_count": null,
   "id": "c23a309a",
   "metadata": {},
   "outputs": [],
   "source": []
  }
 ],
 "metadata": {
  "kernelspec": {
   "display_name": "Python 3 (ipykernel)",
   "language": "python",
   "name": "python3"
  },
  "language_info": {
   "codemirror_mode": {
    "name": "ipython",
    "version": 3
   },
   "file_extension": ".py",
   "mimetype": "text/x-python",
   "name": "python",
   "nbconvert_exporter": "python",
   "pygments_lexer": "ipython3",
   "version": "3.9.12"
  }
 },
 "nbformat": 4,
 "nbformat_minor": 5
}
