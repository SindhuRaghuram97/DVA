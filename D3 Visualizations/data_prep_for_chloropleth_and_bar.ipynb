{
 "cells": [
  {
   "cell_type": "code",
   "execution_count": 11,
   "id": "9e082679",
   "metadata": {},
   "outputs": [],
   "source": [
    "import pandas as pd\n",
    "import re\n",
    "import glob\n",
    "import os\n",
    "\n",
    "us_state_abbrev = {\n",
    "            'AL': 'Alabama',\n",
    "            'AK': 'Alaska',\n",
    "            'AZ': 'Arizona',\n",
    "            'AR': 'Arkansas',\n",
    "            'CA': 'California',\n",
    "            'CO': 'Colorado',\n",
    "            'CT': 'Connecticut',\n",
    "            'DE': 'Delaware',\n",
    "            'FL': 'Florida',\n",
    "            'GA': 'Georgia',\n",
    "            'HI': 'Hawaii',\n",
    "            'ID': 'Idaho',\n",
    "            'IL': 'Illinois',\n",
    "            'IN': 'Indiana',\n",
    "            'IA': 'Iowa',\n",
    "            'KS': 'Kansas',\n",
    "            'KY': 'Kentucky',\n",
    "            'LA': 'Louisiana',\n",
    "            'ME': 'Maine',\n",
    "            'MD': 'Maryland',\n",
    "            'MA': 'Massachusetts',\n",
    "            'MI': 'Michigan',\n",
    "            'MN': 'Minnesota',\n",
    "            'MS': 'Mississippi',\n",
    "            'MO': 'Missouri',\n",
    "            'MT': 'Montana',\n",
    "            'NE': 'Nebraska',\n",
    "            'NV': 'Nevada',\n",
    "            'NH': 'New Hampshire',\n",
    "            'NJ': 'New Jersey',\n",
    "            'NM': 'New Mexico',\n",
    "            'NY': 'New York',\n",
    "            'NC': 'North Carolina',\n",
    "            'ND': 'North Dakota',\n",
    "            'OH': 'Ohio',\n",
    "            'OK': 'Oklahoma',\n",
    "            'OR': 'Oregon',\n",
    "            'PA': 'Pennsylvania',\n",
    "            'RI': 'Rhode Island',\n",
    "            'SC': 'South Carolina',\n",
    "            'SD': 'South Dakota',\n",
    "            'TN': 'Tennessee',\n",
    "            'TX': 'Texas',\n",
    "            'UT': 'Utah',\n",
    "            'VT': 'Vermont',\n",
    "            'VA': 'Virginia',\n",
    "            'WA': 'Washington',\n",
    "            'WV': 'West Virginia',\n",
    "            'WI': 'Wisconsin',\n",
    "            'WY': 'Wyoming',\n",
    "            'DC': 'District of Columbia',\n",
    "            'MP': 'Northern Mariana Islands',\n",
    "            'PW': 'Palau',\n",
    "            'PR': 'Puerto Rico',\n",
    "            'VI': 'Virgin Islands',\n",
    "            'AA': 'Armed Forces Americas (Except Canada)',\n",
    "            'AE': 'Armed Forces Africa/Canada/Europe/Middle East',\n",
    "            'AP': 'Armed Forces Pacific'\n",
    "        }\n",
    "\n",
    "state_names = [\"Alaska\", \"Alabama\", \"Arkansas\", \"Arizona\", \"California\", \"Colorado\", \"Connecticut\", \"District of Columbia\", \"Delaware\", \"Florida\", \"Georgia\", \"Guam\", \"Hawaii\", \"Iowa\", \"Idaho\", \"Illinois\", \"Indiana\", \"Kansas\", \"Kentucky\", \"Louisiana\", \"Massachusetts\", \"Maryland\", \"Maine\", \"Michigan\", \"Minnesota\", \"Missouri\", \"Mississippi\", \"Montana\", \"North Carolina\", \"North Dakota\", \"Nebraska\", \"New Hampshire\", \"New Jersey\", \"New Mexico\", \"Nevada\", \"New York\", \"Ohio\", \"Oklahoma\", \"Oregon\", \"Pennsylvania\", \"Rhode Island\", \"South Carolina\", \"South Dakota\", \"Tennessee\", \"Texas\", \"Utah\", \"Virginia\", \"Virgin Islands\", \"Vermont\", \"Washington\", \"Wisconsin\", \"West Virginia\", \"Wyoming\"]\n",
    "\n",
    "dem_states = [\"Arizona\", \"California\", \"Colorado\", \"Connecticut\", \"Delaware\", \"District of Columbia\",\n",
    "             \"Georgia\", \"Hawaii\", \"Illinois\", \"Maine\", \"Maryland\", \"Massachusetts\", \"Michigan\",\n",
    "             \"Minnesota\", \"Nevada\", \"New Hampshire\", \"New Jersey\", \"New Mexico\", \"New York\",\n",
    "             \"Oregon\", \"Pennsylvania\", \"Rhode Island\", \"Vermont\", \"Virginia\", \"Washington\",\n",
    "             \"Wisconsin\"]\n",
    "\n",
    "rep_states = [\"Alabama\", \"Alaska\", \"Arkansas\", \"Florida\", \"Idaho\", \"Indiana\", \"Iowa\", \"Kansas\",\n",
    "             \"Kentucky\", \"Louisiana\", \"Mississippi\", \"Missouri\", \"Montana\", \"Nebraska\",\n",
    "             \"North Carolina\", \"North Dakota\", \"Ohio\", \"Oklahoma\", \"South Carolina\",\n",
    "             \"South Dakota\", \"Tennessee\", \"Texas\", \"Utah\", \"West Virginia\", \"Wyoming\"]\n",
    "\n",
    "state_regex = r'(AL|AK|AZ|AR|CA|CO|CT|DE|FL|GA|HI|ID|IL|IN|IA|KS|KY|LA|ME|MD|MA|MI|MN|MS|MO|MT|NE|NV|NH|NJ|NM|NY|NC|ND|OH|OK|OR|PA|RI|SC|SD|TN|TX|UT|VT|VA|WA|WV|WI|WY|Alabama|Alaska|Arizona|Arkansas|California|Colorado|Connecticut|Delaware|District of Columbia|Florida|Georgia|Hawaii|Idaho|Illinois|Indiana|Iowa|Kansas|Kentucky|Louisiana|Maine|Maryland|Massachusetts|Michigan|Minnesota|Mississippi|Missouri|Montana|Nebraska|Nevada|New Hampshire|New Jersey|New Mexico|New York|North Carolina|North Dakota|Ohio|Oklahoma|Oregon|Pennsylvania|Rhode Island|South Carolina|South Dakota|Tennessee|Texas|Utah|Vermont|Virginia|Washington|West Virginia|Wisconsin|Wyoming)'"
   ]
  },
  {
   "cell_type": "markdown",
   "id": "7b42e1b5",
   "metadata": {},
   "source": [
    "Prepare sentiment files for visualizations"
   ]
  },
  {
   "cell_type": "code",
   "execution_count": 12,
   "id": "13ed6e4b",
   "metadata": {},
   "outputs": [],
   "source": [
    "def transformation(OldValue):\n",
    "    NewValue = ((OldValue + 1) / 2)\n",
    "    return NewValue"
   ]
  },
  {
   "cell_type": "markdown",
   "id": "66b1234d",
   "metadata": {},
   "source": [
    "Chloropleth"
   ]
  },
  {
   "cell_type": "code",
   "execution_count": 13,
   "id": "0a9ff245",
   "metadata": {},
   "outputs": [],
   "source": [
    "prochoice = ['output_#Abortion.csv', 'output_#Abortionban.csv',\n",
    "            'output_#AbortionIsHealthcare.csv', 'output_#Abortionrights.csv',\n",
    "            'output_#AbortionRightsAreHumanRights.csv', 'output_#Safeabortion.csv',\n",
    "            'output_#Women.csv', 'output_#WomensReproductiveRights.csv',\n",
    "            'output_#Womensrights.csv']\n",
    "\n",
    "\n",
    "df_choice = pd.read_csv('raw_pull_sentiment_outputs/prochoice/outout_#prochoice.csv')\n",
    "\n",
    "for i in prochoice:\n",
    "    add = pd.read_csv('raw_pull_sentiment_outputs/prochoice/' + i)\n",
    "    df_choice = pd.concat([df_choice, add])\n",
    "df_choice = df_choice[['location', 'sentiment_score','sentiment']]\n",
    "# df_choice.head()"
   ]
  },
  {
   "cell_type": "code",
   "execution_count": 14,
   "id": "6844f95e",
   "metadata": {},
   "outputs": [],
   "source": [
    "df_choice['location'] = df_choice['location'].str.extract(state_regex, expand=False)\n",
    "df_choice['location'] = df_choice['location'].replace(us_state_abbrev)\n",
    "df_choice = df_choice.dropna()\n",
    "df_choice.head()\n",
    "\n",
    "df_choice = df_choice.groupby('location').agg({'sentiment_score': 'mean'}).reset_index()\n",
    "df_choice['Rank'] = 1\n",
    "\n",
    "df_choice['sentiment_score'] = df_choice['sentiment_score'].apply(transformation)\n",
    "\n",
    "df_choice.to_csv('df_choice.csv',index=False)"
   ]
  },
  {
   "cell_type": "code",
   "execution_count": 15,
   "id": "ab6f2270",
   "metadata": {},
   "outputs": [],
   "source": [
    "prolife = ['output_#banabortion.csv', 'output_#CatholicTwitter.csv',\n",
    "            'output_#ChristianTwitter.csv', 'output_#EndAbortion.csv',\n",
    "            'output_#Life.csv', 'output_#prolife.csv',\n",
    "            'output_#Stillife.csv', 'output_#Stopkillingbabies.csv',\n",
    "            'output_#UnbornLivesMatter.csv']\n",
    "\n",
    "\n",
    "df_life = pd.read_csv('raw_pull_sentiment_outputs/prolife/output_#AbortionIsMurder.csv')\n",
    "\n",
    "for i in prolife:\n",
    "    add = pd.read_csv('raw_pull_sentiment_outputs/prolife/' + i, engine='python')\n",
    "    df_life = pd.concat([df_life, add])\n",
    "df_life = df_life[['location', 'sentiment_score','sentiment']]\n",
    "# df_life.head()"
   ]
  },
  {
   "cell_type": "code",
   "execution_count": 16,
   "id": "88b46184",
   "metadata": {
    "scrolled": true
   },
   "outputs": [],
   "source": [
    "df_life['location'] = df_life['location'].str.extract(state_regex, expand=False)\n",
    "df_life['location'] = df_life['location'].replace(us_state_abbrev)\n",
    "df_life = df_life.dropna()\n",
    "df_life.head()\n",
    "\n",
    "df_life = df_life.groupby('location').agg({'sentiment_score': 'mean'}).reset_index()\n",
    "df_life['Rank'] = 1\n",
    "\n",
    "df_life['sentiment_score'] = df_life['sentiment_score'].apply(transformation)\n",
    "# df_life.head()\n",
    "df_life.to_csv('df_life.csv',index=False)"
   ]
  },
  {
   "cell_type": "markdown",
   "id": "d3edf176",
   "metadata": {},
   "source": [
    "Bar Chart"
   ]
  },
  {
   "cell_type": "code",
   "execution_count": 17,
   "id": "acea4b04",
   "metadata": {},
   "outputs": [
    {
     "name": "stdout",
     "output_type": "stream",
     "text": [
      "[{'group': 'Arizona', 'value': 0.11527610321839649}, {'group': 'California', 'value': 0.12804459110772098}, {'group': 'Colorado', 'value': 0.18736030906438828}, {'group': 'Connecticut', 'value': 0.2315463423728943}, {'group': 'Delaware', 'value': 0.005133161942164122}, {'group': 'District of Columbia', 'value': 0.009556531906127985}, {'group': 'Georgia', 'value': 0.10656120727459589}, {'group': 'Hawaii', 'value': 0.13248465458552044}, {'group': 'Illinois', 'value': 0.3197428435087204}, {'group': 'Maine', 'value': 0.01798414758273531}, {'group': 'Maryland', 'value': 0.16779007455881906}, {'group': 'Massachusetts', 'value': 0.2668883984997159}, {'group': 'Michigan', 'value': 0.08966071101335377}, {'group': 'Minnesota', 'value': 0.2995354107448033}, {'group': 'Nevada', 'value': 0.024371184800800527}, {'group': 'New Hampshire', 'value': 0.02236348390579218}, {'group': 'New Jersey', 'value': 0.05356264114379883}, {'group': 'New Mexico', 'value': 0.01807314583233427}, {'group': 'New York', 'value': 0.20713045336456914}, {'group': 'Oregon', 'value': 0.1143037470487448}, {'group': 'Pennsylvania', 'value': 0.16498357109856188}, {'group': 'Rhode Island', 'value': 0.15796602198055815}, {'group': 'Vermont', 'value': 0.40319669246673584}, {'group': 'Virginia', 'value': 0.301584925254186}, {'group': 'Washington', 'value': 0.18504587422429986}, {'group': 'Wisconsin', 'value': 0.01925336420536039}]\n",
      "\n",
      "\n",
      "[{'group': 'Alabama', 'value': 0.13788312301039696}, {'group': 'Arkansas', 'value': 0.0079917311668396}, {'group': 'Florida', 'value': 0.14887414248216718}, {'group': 'Idaho', 'value': 0.0037040114402770996}, {'group': 'Indiana', 'value': 0.22846175357699394}, {'group': 'Iowa', 'value': 0.007484372173036935}, {'group': 'Kansas', 'value': 0.14817236363887787}, {'group': 'Kentucky', 'value': 0.0015066961447398053}, {'group': 'Louisiana', 'value': 0.12007121506490204}, {'group': 'Mississippi', 'value': 0.007495679638602537}, {'group': 'Missouri', 'value': 0.4435052010748121}, {'group': 'Montana', 'value': 0.03547743707895279}, {'group': 'Nebraska', 'value': 0.005737973111016426}, {'group': 'North Carolina', 'value': 0.10344775269428891}, {'group': 'North Dakota', 'value': 0.0038975775241851807}, {'group': 'Ohio', 'value': 0.13578530943999856}, {'group': 'Oklahoma', 'value': 0.09888019480488519}, {'group': 'South Carolina', 'value': 0.18129536509513855}, {'group': 'Tennessee', 'value': 0.11933249936384316}, {'group': 'Texas', 'value': 0.1702558289047416}, {'group': 'Utah', 'value': 0.0023306608200073242}, {'group': 'West Virginia', 'value': 0.04633942246437078}]\n"
     ]
    }
   ],
   "source": [
    "df_dem_choice = df_choice[df_choice['location'].isin(dem_states)]\n",
    "df_rep_choice = df_choice[df_choice['location'].isin(rep_states)]\n",
    "\n",
    "\n",
    "\n",
    "dem_list_choice = []\n",
    "rep_list_choice = []\n",
    "\n",
    "for i in range(len(df_dem_choice)):\n",
    "    dem_list_choice.append({'group': df_dem_choice.iloc[i]['location'], 'value': df_dem_choice.iloc[i]['sentiment_score']})\n",
    "    \n",
    "for i in range(len(df_rep_choice)):\n",
    "    rep_list_choice.append({'group': df_rep_choice.iloc[i]['location'], 'value': df_rep_choice.iloc[i]['sentiment_score']})\n",
    "    \n",
    "print(dem_list_choice)\n",
    "print('\\n')\n",
    "print(rep_list_choice)"
   ]
  },
  {
   "cell_type": "code",
   "execution_count": 19,
   "id": "4cea9cdc",
   "metadata": {},
   "outputs": [
    {
     "name": "stdout",
     "output_type": "stream",
     "text": [
      "[{'group': 'Arizona', 'value': 0.3865469189790579}, {'group': 'California', 'value': 0.4050129208909838}, {'group': 'Colorado', 'value': 0.2951728403568268}, {'group': 'Connecticut', 'value': 0.6548673113187155}, {'group': 'Delaware', 'value': 0.3399756153424581}, {'group': 'Georgia', 'value': 0.2629329436100446}, {'group': 'Hawaii', 'value': 0.005884259939193781}, {'group': 'Illinois', 'value': 0.4832814239166878}, {'group': 'Maine', 'value': 0.44932329654693604}, {'group': 'Maryland', 'value': 0.3827726597135717}, {'group': 'Massachusetts', 'value': 0.4080263189971447}, {'group': 'Michigan', 'value': 0.5028117089108988}, {'group': 'Minnesota', 'value': 0.1907704163480688}, {'group': 'Nevada', 'value': 0.18554289638996124}, {'group': 'New Hampshire', 'value': 0.6934316505988439}, {'group': 'New Jersey', 'value': 0.6902761814685969}, {'group': 'New Mexico', 'value': 0.1858637414195321}, {'group': 'New York', 'value': 0.3189077993102421}, {'group': 'Oregon', 'value': 0.313197985291481}, {'group': 'Pennsylvania', 'value': 0.336964673165119}, {'group': 'Rhode Island', 'value': 0.31681759442601887}, {'group': 'Vermont', 'value': 0.24317076802253723}, {'group': 'Virginia', 'value': 0.5346111346174169}, {'group': 'Washington', 'value': 0.4208044094859429}, {'group': 'Wisconsin', 'value': 0.4070702384818684}]\n",
      "\n",
      "\n",
      "[{'group': 'Alabama', 'value': 0.5791042957987104}, {'group': 'Arkansas', 'value': 0.6448966755586512}, {'group': 'Florida', 'value': 0.5087628542283259}, {'group': 'Indiana', 'value': 0.5129639351367951}, {'group': 'Iowa', 'value': 0.17119704683621728}, {'group': 'Kansas', 'value': 0.20703384041786194}, {'group': 'Kentucky', 'value': 0.2626652249268123}, {'group': 'Louisiana', 'value': 0.504293384651343}, {'group': 'Mississippi', 'value': 0.1189290016889572}, {'group': 'Missouri', 'value': 0.30419457790463467}, {'group': 'Montana', 'value': 0.11697695321506923}, {'group': 'Nebraska', 'value': 0.05813427269458771}, {'group': 'North Carolina', 'value': 0.17216818059905098}, {'group': 'North Dakota', 'value': 0.0028321941693623676}, {'group': 'Ohio', 'value': 0.34602172010474735}, {'group': 'Oklahoma', 'value': 0.2382406090435229}, {'group': 'South Carolina', 'value': 0.5545977056026459}, {'group': 'South Dakota', 'value': 0.24496375769376755}, {'group': 'Tennessee', 'value': 0.18991718292236326}, {'group': 'Texas', 'value': 0.27817256330586165}, {'group': 'Utah', 'value': 0.044036754540034695}, {'group': 'West Virginia', 'value': 0.0065987408161163885}]\n"
     ]
    }
   ],
   "source": [
    "df_dem_life = df_life[df_life['location'].isin(dem_states)]\n",
    "df_rep_life = df_life[df_life['location'].isin(rep_states)]\n",
    "\n",
    "dem_list_life = []\n",
    "rep_list_life = []\n",
    "\n",
    "for i in range(len(df_dem_life)):\n",
    "    dem_list_life.append({'group': df_dem_life.iloc[i]['location'], 'value': df_dem_life.iloc[i]['sentiment_score']})\n",
    "    \n",
    "for i in range(len(df_rep_life)):\n",
    "    rep_list_life.append({'group': df_rep_life.iloc[i]['location'], 'value': df_rep_life.iloc[i]['sentiment_score']})\n",
    "    \n",
    "print(dem_list_life)\n",
    "print('\\n')\n",
    "print(rep_list_life)"
   ]
  }
 ],
 "metadata": {
  "kernelspec": {
   "display_name": "Python 3 (ipykernel)",
   "language": "python",
   "name": "python3"
  },
  "language_info": {
   "codemirror_mode": {
    "name": "ipython",
    "version": 3
   },
   "file_extension": ".py",
   "mimetype": "text/x-python",
   "name": "python",
   "nbconvert_exporter": "python",
   "pygments_lexer": "ipython3",
   "version": "3.9.12"
  }
 },
 "nbformat": 4,
 "nbformat_minor": 5
}
